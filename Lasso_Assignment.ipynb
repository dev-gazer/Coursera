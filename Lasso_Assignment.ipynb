{
  "nbformat": 4,
  "nbformat_minor": 0,
  "metadata": {
    "colab": {
      "name": "Lasso Assignment.ipynb",
      "provenance": [],
      "mount_file_id": "1wTX50Ygam4UL_b6UrqWYsMEiQjvxGI-4",
      "authorship_tag": "ABX9TyMrrV7Ir3PwQuTt6tJwiJlN",
      "include_colab_link": true
    },
    "kernelspec": {
      "display_name": "Python 3",
      "name": "python3"
    }
  },
  "cells": [
    {
      "cell_type": "markdown",
      "metadata": {
        "id": "view-in-github",
        "colab_type": "text"
      },
      "source": [
        "<a href=\"https://colab.research.google.com/github/martuscellifaria/Coursera/blob/main/Lasso_Assignment.ipynb\" target=\"_parent\"><img src=\"https://colab.research.google.com/assets/colab-badge.svg\" alt=\"Open In Colab\"/></a>"
      ]
    },
    {
      "cell_type": "markdown",
      "metadata": {
        "id": "pZNVGWqbAbXp"
      },
      "source": [
        "#1. Import libraries"
      ]
    },
    {
      "cell_type": "code",
      "metadata": {
        "id": "TAKy5LMQACQO"
      },
      "source": [
        "import pandas as pd\n",
        "import numpy as np\n",
        "import matplotlib.pylab as plt\n",
        "from sklearn.model_selection import train_test_split\n",
        "from sklearn.linear_model import LassoLarsCV, LassoCV, LassoLarsIC"
      ],
      "execution_count": 2,
      "outputs": []
    },
    {
      "cell_type": "markdown",
      "metadata": {
        "id": "fokog_HPAmVA"
      },
      "source": [
        "#2. Load dataset"
      ]
    },
    {
      "cell_type": "code",
      "metadata": {
        "id": "BHKRFaCKAaeM",
        "outputId": "cc57aa8b-bac8-4f61-d677-da37fd770bb0",
        "colab": {
          "base_uri": "https://localhost:8080/",
          "height": 72
        }
      },
      "source": [
        "data = pd.read_csv(\"/content/drive/My Drive/Colab Notebooks/Course ML/addhealth_pds.csv\")"
      ],
      "execution_count": 4,
      "outputs": [
        {
          "output_type": "stream",
          "text": [
            "/usr/local/lib/python3.6/dist-packages/IPython/core/interactiveshell.py:2718: DtypeWarning: Columns (8,11,22,65,134,135,177,205,206,207,208,346,366,523,532,533,753,755,756,842,843,847,848,849,856,885,886,887,888,889,890,891,892,893,894,895,896,897,898,899,900,901,902,903,904,905,906,908,909,910,911,912,913,914,915,916,917,918,919,920,921,922,923,924,925,926,927,928,929,930,931,932,933,934,935,936,937,938,939,940,941,942,943,944,945,946,966,967,974,979,980,982,986,987,989,991,992,994,1010,1035,1036,1037,1038,1039,1040,1041,1042,1043,1044,1045,1046,1047,1048,1049,1050,1051,1052,1053,1073,1075,1078,1079,1080,1081,1084,1085,1086,1087,1088,1091,1092,1093,1094,1095,1097,1098,1099,1119,1141,1142,1143,1144,1145,1146,1147,1148,1149,1150,1151,1152,1153,1154,1155,1156,1157,1158,1159,1160,1161,1162,1163,1164,1184,1185,1186,1187,1190,1191,1192,1193,1194,1197,1198,1199,1200,1201,1219,1221,1222,1235,1236,1237,1238,1239,1240,1262,1263,1264,1265,1266,1267,1268,1269,1270,1271,1272,1273,1274,1275,1276,1277,1278,1279,1280,1281,1282,1283,1284,1285,1286,1300,1302,1383,1384,1389,1390,1406,1407,1408,1409,1410,1411,1433,1434,1435,1436,1437,1438,1439,1440,1441,1442,1443,1444,1445,1446,1447,1448,1449,1450,1451,1452,1453,1454,1455,1456,1457,1458,1459,1460,1476,1477,1478,1479,1482,1483,1484,1485,1486,1489,1490,1491,1492,1493,1554,1555,1582,1604,1605,1606,1607,1608,1609,1610,1611,1612,1613,1614,1615,1616,1617,1618,1619,1620,1621,1622,1623,1624,1625,1626,1627,1628,1629,1630,1631,1632,1633,1634,1635,1636,1637,1638,1639,1647,1648,1649,1650,1653,1654,1655,1656,1657,1660,1661,1662,1663,1664,1725,1726,1757,1758,1759,1785,1786,1787,1788,1789,1790,1791,1792,1793,1794,1795,1796,1797,1875,1876,1877,1885,1886,1887,2011,2012,2013,2021,2022,2023,2024,2025,2026,2027,2028,2029,2030,2031,2032,2033,2034,2120,2121,2122,2123,2124,2125,2126,2127,2128,2129,2130,2131,2132,2133,2134,2135,2136,2137,2138,2139,2140,2141,2142,2143,2144,2145,2146,2147,2148,2149,2150,2151,2152,2153,2154,2155,2156,2157,2158,2159,2160,2161,2162,2163,2164,2165,2166,2167,2168,2169,2170,2171,2172,2173,2174,2175,2176,2177,2178,2179,2180,2181,2182,2183,2184,2185,2186,2187,2188,2189,2190,2191,2192,2193,2194,2195,2196,2197,2198,2199,2200,2201,2202,2203,2204,2205,2206,2207,2208,2209,2210,2211,2212,2213,2214,2215,2216,2217,2218,2219,2220,2221,2222,2223,2224,2225,2226) have mixed types.Specify dtype option on import or set low_memory=False.\n",
            "  interactivity=interactivity, compiler=compiler, result=result)\n"
          ],
          "name": "stderr"
        }
      ]
    },
    {
      "cell_type": "markdown",
      "metadata": {
        "id": "WLh4WFPlA6YC"
      },
      "source": [
        ""
      ]
    },
    {
      "cell_type": "markdown",
      "metadata": {
        "id": "j3E81nTjA8-f"
      },
      "source": [
        "# 3. Uppercase all data column names"
      ]
    },
    {
      "cell_type": "code",
      "metadata": {
        "id": "YKGkA2i8AuHb"
      },
      "source": [
        "data.columns = map(str.upper, data.columns)"
      ],
      "execution_count": 5,
      "outputs": []
    },
    {
      "cell_type": "markdown",
      "metadata": {
        "id": "4Qw9nhxQBMqR"
      },
      "source": [
        "#4. Manage the data"
      ]
    },
    {
      "cell_type": "code",
      "metadata": {
        "id": "Olv_Z-wUBIjb"
      },
      "source": [
        "data_clean = data.dropna()\n",
        "#recode1 = {1:1, 2:0}\n",
        "#data_clean['MALE']= data_clean['BIO_SEX'].map(recode1)"
      ],
      "execution_count": 6,
      "outputs": []
    },
    {
      "cell_type": "markdown",
      "metadata": {
        "id": "sCT6riqtBcs1"
      },
      "source": [
        "#5. Select predictors and target"
      ]
    },
    {
      "cell_type": "code",
      "metadata": {
        "id": "HUBKdssKBOzn"
      },
      "source": [
        "predvar = data_clean[['IMONTH','IDAY','BIO_SEX','MACNO','SCH_YR','SCID',\n",
        "'SSCID','COMMID']]\n",
        "\n",
        "\n",
        "target = data_clean.H1GH1A"
      ],
      "execution_count": 7,
      "outputs": []
    },
    {
      "cell_type": "markdown",
      "metadata": {
        "id": "J6mAMX_FBmN1"
      },
      "source": [
        "#6. Standardize predictors to have mean = 0 and sd = 1"
      ]
    },
    {
      "cell_type": "code",
      "metadata": {
        "id": "Ba9OV6g7Bgln"
      },
      "source": [
        "predictors=predvar.copy()\n",
        "from sklearn import preprocessing\n",
        "predictors['IMONTH']=preprocessing.scale(predictors['IMONTH'].astype('float64'))\n",
        "predictors['IDAY']=preprocessing.scale(predictors['IDAY'].astype('float64'))\n",
        "predictors['BIO_SEX']=preprocessing.scale(predictors['BIO_SEX'].astype('float64'))\n",
        "predictors['MACNO']=preprocessing.scale(predictors['MACNO'].astype('float64'))\n",
        "predictors['SCH_YR']=preprocessing.scale(predictors['SCH_YR'].astype('float64'))\n",
        "predictors['SCID']=preprocessing.scale(predictors['SCID'].astype('float64'))\n",
        "predictors['SSCID']=preprocessing.scale(predictors['SSCID'].astype('float64'))\n",
        "predictors['COMMID']=preprocessing.scale(predictors['COMMID'].astype('float64'))"
      ],
      "execution_count": 9,
      "outputs": []
    },
    {
      "cell_type": "markdown",
      "metadata": {
        "id": "njLruoFPB8OY"
      },
      "source": [
        "#7. Split data in training and test"
      ]
    },
    {
      "cell_type": "code",
      "metadata": {
        "id": "77sPeB2SBwWO"
      },
      "source": [
        "pred_train, pred_test, tar_train, tar_test = train_test_split(predictors, target, test_size=.3, random_state=123)"
      ],
      "execution_count": 10,
      "outputs": []
    },
    {
      "cell_type": "markdown",
      "metadata": {
        "id": "FdTYkJsLCE8_"
      },
      "source": [
        "#8. Specify the Lasso regression model"
      ]
    },
    {
      "cell_type": "code",
      "metadata": {
        "id": "6dq7Z6qkB4Hz"
      },
      "source": [
        "model=LassoLarsCV(cv=10, precompute=False).fit(pred_train,tar_train)"
      ],
      "execution_count": 11,
      "outputs": []
    },
    {
      "cell_type": "markdown",
      "metadata": {
        "id": "hpXRWXybCOOm"
      },
      "source": [
        "#9. Print variable names and regression coefficients"
      ]
    },
    {
      "cell_type": "code",
      "metadata": {
        "id": "lHxGDcA-CEJe",
        "outputId": "47a99fec-89fd-4c60-d66e-7187be22789f",
        "colab": {
          "base_uri": "https://localhost:8080/",
          "height": 156
        }
      },
      "source": [
        "dict(zip(predictors.columns, model.coef_))"
      ],
      "execution_count": 12,
      "outputs": [
        {
          "output_type": "execute_result",
          "data": {
            "text/plain": [
              "{'BIO_SEX': 0.04870447573147071,\n",
              " 'COMMID': -0.016859135039731084,\n",
              " 'IDAY': -0.6624130337895495,\n",
              " 'IMONTH': -2.922929959180374,\n",
              " 'MACNO': 0.10919739708500062,\n",
              " 'SCH_YR': -0.27086893764025555,\n",
              " 'SCID': -0.03442585050884522,\n",
              " 'SSCID': -0.03244056861968426}"
            ]
          },
          "metadata": {
            "tags": []
          },
          "execution_count": 12
        }
      ]
    },
    {
      "cell_type": "markdown",
      "metadata": {
        "id": "IHxHzmVZCdul"
      },
      "source": [
        "#10. Plot coefficient progression"
      ]
    },
    {
      "cell_type": "code",
      "metadata": {
        "id": "tGyGSGybCNBp",
        "outputId": "c15a2e97-f263-49ec-9804-9739676f2bce",
        "colab": {
          "base_uri": "https://localhost:8080/",
          "height": 364
        }
      },
      "source": [
        "m_log_alphas = -np.log10(model.alphas_)\n",
        "ax = plt.gca()\n",
        "plt.plot(m_log_alphas, model.coef_path_.T)\n",
        "plt.axvline(-np.log10(model.alpha_), linestyle='--', color='k',\n",
        "            label='alpha CV')\n",
        "plt.ylabel('Regression Coefficients')\n",
        "plt.xlabel('-log(alpha)')\n",
        "plt.title('Regression Coefficients Progression for Lasso Paths')\n",
        "plt.grid(which='major')\n",
        "plt.grid(which='minor')"
      ],
      "execution_count": 13,
      "outputs": [
        {
          "output_type": "stream",
          "text": [
            "/usr/local/lib/python3.6/dist-packages/ipykernel_launcher.py:1: RuntimeWarning: divide by zero encountered in log10\n",
            "  \"\"\"Entry point for launching an IPython kernel.\n",
            "/usr/local/lib/python3.6/dist-packages/ipykernel_launcher.py:4: RuntimeWarning: divide by zero encountered in log10\n",
            "  after removing the cwd from sys.path.\n"
          ],
          "name": "stderr"
        },
        {
          "output_type": "display_data",
          "data": {
            "image/png": "[encoded data removed]",
            "text/plain": [
              "<Figure size 432x288 with 1 Axes>"
            ]
          },
          "metadata": {
            "tags": [],
            "needs_background": "light"
          }
        }
      ]
    },
    {
      "cell_type": "markdown",
      "metadata": {
        "id": "5WhLP4UsDAMv"
      },
      "source": [
        "#11. Plot mean square error for each fold"
      ]
    },
    {
      "cell_type": "code",
      "metadata": {
        "id": "zkHqvDDYCbvW",
        "outputId": "55857a04-5b68-4a22-e736-655df08485fb",
        "colab": {
          "base_uri": "https://localhost:8080/",
          "height": 364
        }
      },
      "source": [
        "m_log_alphascv = -np.log10(model.cv_alphas_)\n",
        "plt.figure()\n",
        "plt.plot(m_log_alphascv, model.mse_path_, ':')\n",
        "plt.plot(m_log_alphascv, model.mse_path_.mean(axis=-1), 'k',\n",
        "         label='Average across the folds', linewidth=2)\n",
        "plt.axvline(-np.log10(model.alpha_), linestyle='--', color='k',\n",
        "            label='alpha CV')\n",
        "plt.legend()\n",
        "plt.xlabel('-log(alpha)')\n",
        "plt.ylabel('Mean squared error')\n",
        "plt.title('Mean squared error on each fold')\n",
        "plt.grid(which='major')\n",
        "plt.grid(which='minor')"
      ],
      "execution_count": 14,
      "outputs": [
        {
          "output_type": "stream",
          "text": [
            "/usr/local/lib/python3.6/dist-packages/ipykernel_launcher.py:1: RuntimeWarning: divide by zero encountered in log10\n",
            "  \"\"\"Entry point for launching an IPython kernel.\n",
            "/usr/local/lib/python3.6/dist-packages/ipykernel_launcher.py:6: RuntimeWarning: divide by zero encountered in log10\n",
            "  \n"
          ],
          "name": "stderr"
        },
        {
          "output_type": "display_data",
          "data": {
            "image/png": "[encoded data removed]",
            "text/plain": [
              "<Figure size 432x288 with 1 Axes>"
            ]
          },
          "metadata": {
            "tags": [],
            "needs_background": "light"
          }
        }
      ]
    },
    {
      "cell_type": "markdown",
      "metadata": {
        "id": "Qz9WGYSfGNq6"
      },
      "source": [
        "#12. MSE from training and test data"
      ]
    },
    {
      "cell_type": "code",
      "metadata": {
        "id": "15CjeN49DDma",
        "outputId": "282a747e-96a1-47ad-9050-40b2e011bb98",
        "colab": {
          "base_uri": "https://localhost:8080/",
          "height": 86
        }
      },
      "source": [
        "from sklearn.metrics import mean_squared_error\n",
        "train_error = mean_squared_error(tar_train, model.predict(pred_train))\n",
        "test_error = mean_squared_error(tar_test, model.predict(pred_test))\n",
        "print ('training data MSE')\n",
        "print(train_error)\n",
        "print ('test data MSE')\n",
        "print(test_error)"
      ],
      "execution_count": 15,
      "outputs": [
        {
          "output_type": "stream",
          "text": [
            "training data MSE\n",
            "3.5775925356701577\n",
            "test data MSE\n",
            "3.6135228837154307\n"
          ],
          "name": "stdout"
        }
      ]
    },
    {
      "cell_type": "markdown",
      "metadata": {
        "id": "Wffy6u1jGWD1"
      },
      "source": [
        "#13. R-Square from training and test data"
      ]
    },
    {
      "cell_type": "code",
      "metadata": {
        "id": "FEfRXvsEGLGL",
        "outputId": "575ebe68-0b0f-4a44-fd53-115b23194116",
        "colab": {
          "base_uri": "https://localhost:8080/",
          "height": 86
        }
      },
      "source": [
        "rsquared_train=model.score(pred_train,tar_train)\n",
        "rsquared_test=model.score(pred_test,tar_test)\n",
        "print ('training data R-square')\n",
        "print(rsquared_train)\n",
        "print ('test data R-square')\n",
        "print(rsquared_test)"
      ],
      "execution_count": 16,
      "outputs": [
        {
          "output_type": "stream",
          "text": [
            "training data R-square\n",
            "0.6818743314045567\n",
            "test data R-square\n",
            "0.683339954700142\n"
          ],
          "name": "stdout"
        }
      ]
    },
    {
      "cell_type": "code",
      "metadata": {
        "id": "khir5_BuGfKo"
      },
      "source": [
        ""
      ],
      "execution_count": null,
      "outputs": []
    }
  ]
}