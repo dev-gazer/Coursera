{
  "nbformat": 4,
  "nbformat_minor": 0,
  "metadata": {
    "colab": {
      "name": "Random Forests Smokers.ipynb",
      "provenance": [],
      "mount_file_id": "17MlrkMxDjKDCq7zmLA5OmiGVEY-7wtaj",
      "authorship_tag": "ABX9TyN4O0QGCY5OloWlTdghqLeu",
      "include_colab_link": true
    },
    "kernelspec": {
      "display_name": "Python 3",
      "name": "python3"
    }
  },
  "cells": [
    {
      "cell_type": "markdown",
      "metadata": {
        "id": "view-in-github",
        "colab_type": "text"
      },
      "source": [
        "<a href=\"https://colab.research.google.com/github/martuscellifaria/Coursera/blob/main/Random_Forests_Smokers.ipynb\" target=\"_parent\"><img src=\"https://colab.research.google.com/assets/colab-badge.svg\" alt=\"Open In Colab\"/></a>"
      ]
    },
    {
      "cell_type": "code",
      "metadata": {
        "id": "EEpolSbdOIfz"
      },
      "source": [
        "from pandas import Series, DataFrame\n",
        "import pandas as pd\n",
        "import numpy as np\n",
        "import os\n",
        "import matplotlib.pylab as plt\n",
        "from sklearn.model_selection import train_test_split\n",
        "from sklearn.tree import DecisionTreeClassifier\n",
        "from sklearn.metrics import classification_report\n",
        "import sklearn.metrics\n",
        " # Feature Importance\n",
        "from sklearn import datasets\n",
        "from sklearn.ensemble import ExtraTreesClassifier"
      ],
      "execution_count": null,
      "outputs": []
    },
    {
      "cell_type": "code",
      "metadata": {
        "id": "zuFkdQBqOsEy",
        "outputId": "63bdd02b-90a8-4893-f53f-3f3e08c6a857",
        "colab": {
          "base_uri": "https://localhost:8080/",
          "height": 320
        }
      },
      "source": [
        "AH_data = pd.read_csv(\"/content/drive/My Drive/Colab Notebooks/Course ML/tree_addhealth.csv\")\n",
        "data_clean = AH_data.dropna()\n",
        "\n",
        "data_clean.dtypes\n",
        "data_clean.describe()"
      ],
      "execution_count": null,
      "outputs": [
        {
          "output_type": "execute_result",
          "data": {
            "text/html": [
              "<div>\n",
              "<style scoped>\n",
              "    .dataframe tbody tr th:only-of-type {\n",
              "        vertical-align: middle;\n",
              "    }\n",
              "\n",
              "    .dataframe tbody tr th {\n",
              "        vertical-align: top;\n",
              "    }\n",
              "\n",
              "    .dataframe thead th {\n",
              "        text-align: right;\n",
              "    }\n",
              "</style>\n",
              "<table border=\"1\" class=\"dataframe\">\n",
              "  <thead>\n",
              "    <tr style=\"text-align: right;\">\n",
              "      <th></th>\n",
              "      <th>BIO_SEX</th>\n",
              "      <th>HISPANIC</th>\n",
              "      <th>WHITE</th>\n",
              "      <th>BLACK</th>\n",
              "      <th>NAMERICAN</th>\n",
              "      <th>ASIAN</th>\n",
              "      <th>age</th>\n",
              "      <th>TREG1</th>\n",
              "      <th>ALCEVR1</th>\n",
              "      <th>ALCPROBS1</th>\n",
              "      <th>marever1</th>\n",
              "      <th>cocever1</th>\n",
              "      <th>inhever1</th>\n",
              "      <th>cigavail</th>\n",
              "      <th>DEP1</th>\n",
              "      <th>ESTEEM1</th>\n",
              "      <th>VIOL1</th>\n",
              "      <th>PASSIST</th>\n",
              "      <th>DEVIANT1</th>\n",
              "      <th>SCHCONN1</th>\n",
              "      <th>GPA1</th>\n",
              "      <th>EXPEL1</th>\n",
              "      <th>FAMCONCT</th>\n",
              "      <th>PARACTV</th>\n",
              "      <th>PARPRES</th>\n",
              "    </tr>\n",
              "  </thead>\n",
              "  <tbody>\n",
              "    <tr>\n",
              "      <th>count</th>\n",
              "      <td>4575.000000</td>\n",
              "      <td>4575.000000</td>\n",
              "      <td>4575.000000</td>\n",
              "      <td>4575.000000</td>\n",
              "      <td>4575.000000</td>\n",
              "      <td>4575.000000</td>\n",
              "      <td>4575.000000</td>\n",
              "      <td>4575.000000</td>\n",
              "      <td>4575.000000</td>\n",
              "      <td>4575.000000</td>\n",
              "      <td>4575.000000</td>\n",
              "      <td>4575.000000</td>\n",
              "      <td>4575.000000</td>\n",
              "      <td>4575.000000</td>\n",
              "      <td>4575.000000</td>\n",
              "      <td>4575.000000</td>\n",
              "      <td>4575.000000</td>\n",
              "      <td>4575.000000</td>\n",
              "      <td>4575.000000</td>\n",
              "      <td>4575.000000</td>\n",
              "      <td>4575.000000</td>\n",
              "      <td>4575.000000</td>\n",
              "      <td>4575.000000</td>\n",
              "      <td>4575.000000</td>\n",
              "      <td>4575.000000</td>\n",
              "    </tr>\n",
              "    <tr>\n",
              "      <th>mean</th>\n",
              "      <td>1.521093</td>\n",
              "      <td>0.111038</td>\n",
              "      <td>0.683279</td>\n",
              "      <td>0.236066</td>\n",
              "      <td>0.036284</td>\n",
              "      <td>0.040437</td>\n",
              "      <td>16.493052</td>\n",
              "      <td>0.176393</td>\n",
              "      <td>0.527432</td>\n",
              "      <td>0.369180</td>\n",
              "      <td>0.241967</td>\n",
              "      <td>0.033224</td>\n",
              "      <td>0.065792</td>\n",
              "      <td>0.300328</td>\n",
              "      <td>8.537049</td>\n",
              "      <td>40.952131</td>\n",
              "      <td>1.618579</td>\n",
              "      <td>0.102514</td>\n",
              "      <td>2.645027</td>\n",
              "      <td>28.360656</td>\n",
              "      <td>2.815647</td>\n",
              "      <td>0.040219</td>\n",
              "      <td>22.570557</td>\n",
              "      <td>6.290710</td>\n",
              "      <td>13.398033</td>\n",
              "    </tr>\n",
              "    <tr>\n",
              "      <th>std</th>\n",
              "      <td>0.499609</td>\n",
              "      <td>0.314214</td>\n",
              "      <td>0.465249</td>\n",
              "      <td>0.424709</td>\n",
              "      <td>0.187017</td>\n",
              "      <td>0.197004</td>\n",
              "      <td>1.552174</td>\n",
              "      <td>0.381196</td>\n",
              "      <td>0.499302</td>\n",
              "      <td>0.894947</td>\n",
              "      <td>0.428321</td>\n",
              "      <td>0.179241</td>\n",
              "      <td>0.247946</td>\n",
              "      <td>0.458451</td>\n",
              "      <td>6.571052</td>\n",
              "      <td>5.381439</td>\n",
              "      <td>2.593230</td>\n",
              "      <td>0.303356</td>\n",
              "      <td>3.520554</td>\n",
              "      <td>5.156385</td>\n",
              "      <td>0.770167</td>\n",
              "      <td>0.196493</td>\n",
              "      <td>2.614754</td>\n",
              "      <td>3.360219</td>\n",
              "      <td>2.085837</td>\n",
              "    </tr>\n",
              "    <tr>\n",
              "      <th>min</th>\n",
              "      <td>1.000000</td>\n",
              "      <td>0.000000</td>\n",
              "      <td>0.000000</td>\n",
              "      <td>0.000000</td>\n",
              "      <td>0.000000</td>\n",
              "      <td>0.000000</td>\n",
              "      <td>12.676712</td>\n",
              "      <td>0.000000</td>\n",
              "      <td>0.000000</td>\n",
              "      <td>0.000000</td>\n",
              "      <td>0.000000</td>\n",
              "      <td>0.000000</td>\n",
              "      <td>0.000000</td>\n",
              "      <td>0.000000</td>\n",
              "      <td>0.000000</td>\n",
              "      <td>18.000000</td>\n",
              "      <td>0.000000</td>\n",
              "      <td>0.000000</td>\n",
              "      <td>0.000000</td>\n",
              "      <td>6.000000</td>\n",
              "      <td>1.000000</td>\n",
              "      <td>0.000000</td>\n",
              "      <td>6.300000</td>\n",
              "      <td>0.000000</td>\n",
              "      <td>3.000000</td>\n",
              "    </tr>\n",
              "    <tr>\n",
              "      <th>25%</th>\n",
              "      <td>1.000000</td>\n",
              "      <td>0.000000</td>\n",
              "      <td>0.000000</td>\n",
              "      <td>0.000000</td>\n",
              "      <td>0.000000</td>\n",
              "      <td>0.000000</td>\n",
              "      <td>15.254795</td>\n",
              "      <td>0.000000</td>\n",
              "      <td>0.000000</td>\n",
              "      <td>0.000000</td>\n",
              "      <td>0.000000</td>\n",
              "      <td>0.000000</td>\n",
              "      <td>0.000000</td>\n",
              "      <td>0.000000</td>\n",
              "      <td>4.000000</td>\n",
              "      <td>38.000000</td>\n",
              "      <td>0.000000</td>\n",
              "      <td>0.000000</td>\n",
              "      <td>0.000000</td>\n",
              "      <td>25.000000</td>\n",
              "      <td>2.250000</td>\n",
              "      <td>0.000000</td>\n",
              "      <td>21.700000</td>\n",
              "      <td>4.000000</td>\n",
              "      <td>12.000000</td>\n",
              "    </tr>\n",
              "    <tr>\n",
              "      <th>50%</th>\n",
              "      <td>2.000000</td>\n",
              "      <td>0.000000</td>\n",
              "      <td>1.000000</td>\n",
              "      <td>0.000000</td>\n",
              "      <td>0.000000</td>\n",
              "      <td>0.000000</td>\n",
              "      <td>16.509589</td>\n",
              "      <td>0.000000</td>\n",
              "      <td>1.000000</td>\n",
              "      <td>0.000000</td>\n",
              "      <td>0.000000</td>\n",
              "      <td>0.000000</td>\n",
              "      <td>0.000000</td>\n",
              "      <td>0.000000</td>\n",
              "      <td>7.000000</td>\n",
              "      <td>40.000000</td>\n",
              "      <td>0.000000</td>\n",
              "      <td>0.000000</td>\n",
              "      <td>1.000000</td>\n",
              "      <td>29.000000</td>\n",
              "      <td>2.750000</td>\n",
              "      <td>0.000000</td>\n",
              "      <td>23.700000</td>\n",
              "      <td>6.000000</td>\n",
              "      <td>14.000000</td>\n",
              "    </tr>\n",
              "    <tr>\n",
              "      <th>75%</th>\n",
              "      <td>2.000000</td>\n",
              "      <td>0.000000</td>\n",
              "      <td>1.000000</td>\n",
              "      <td>0.000000</td>\n",
              "      <td>0.000000</td>\n",
              "      <td>0.000000</td>\n",
              "      <td>17.679452</td>\n",
              "      <td>0.000000</td>\n",
              "      <td>1.000000</td>\n",
              "      <td>0.000000</td>\n",
              "      <td>0.000000</td>\n",
              "      <td>0.000000</td>\n",
              "      <td>0.000000</td>\n",
              "      <td>1.000000</td>\n",
              "      <td>12.000000</td>\n",
              "      <td>45.000000</td>\n",
              "      <td>2.000000</td>\n",
              "      <td>0.000000</td>\n",
              "      <td>4.000000</td>\n",
              "      <td>32.000000</td>\n",
              "      <td>3.500000</td>\n",
              "      <td>0.000000</td>\n",
              "      <td>24.300000</td>\n",
              "      <td>9.000000</td>\n",
              "      <td>15.000000</td>\n",
              "    </tr>\n",
              "    <tr>\n",
              "      <th>max</th>\n",
              "      <td>2.000000</td>\n",
              "      <td>1.000000</td>\n",
              "      <td>1.000000</td>\n",
              "      <td>1.000000</td>\n",
              "      <td>1.000000</td>\n",
              "      <td>1.000000</td>\n",
              "      <td>21.512329</td>\n",
              "      <td>1.000000</td>\n",
              "      <td>1.000000</td>\n",
              "      <td>6.000000</td>\n",
              "      <td>1.000000</td>\n",
              "      <td>1.000000</td>\n",
              "      <td>1.000000</td>\n",
              "      <td>1.000000</td>\n",
              "      <td>48.000000</td>\n",
              "      <td>50.000000</td>\n",
              "      <td>19.000000</td>\n",
              "      <td>1.000000</td>\n",
              "      <td>27.000000</td>\n",
              "      <td>38.000000</td>\n",
              "      <td>4.000000</td>\n",
              "      <td>1.000000</td>\n",
              "      <td>25.000000</td>\n",
              "      <td>18.000000</td>\n",
              "      <td>15.000000</td>\n",
              "    </tr>\n",
              "  </tbody>\n",
              "</table>\n",
              "</div>"
            ],
            "text/plain": [
              "           BIO_SEX     HISPANIC  ...      PARACTV      PARPRES\n",
              "count  4575.000000  4575.000000  ...  4575.000000  4575.000000\n",
              "mean      1.521093     0.111038  ...     6.290710    13.398033\n",
              "std       0.499609     0.314214  ...     3.360219     2.085837\n",
              "min       1.000000     0.000000  ...     0.000000     3.000000\n",
              "25%       1.000000     0.000000  ...     4.000000    12.000000\n",
              "50%       2.000000     0.000000  ...     6.000000    14.000000\n",
              "75%       2.000000     0.000000  ...     9.000000    15.000000\n",
              "max       2.000000     1.000000  ...    18.000000    15.000000\n",
              "\n",
              "[8 rows x 25 columns]"
            ]
          },
          "metadata": {
            "tags": []
          },
          "execution_count": 3
        }
      ]
    },
    {
      "cell_type": "code",
      "metadata": {
        "id": "OE2eDEDoPASP",
        "outputId": "484ecacb-7277-491c-d601-c57b1848b947",
        "colab": {
          "base_uri": "https://localhost:8080/",
          "height": 34
        }
      },
      "source": [
        "predictors = data_clean[['BIO_SEX','HISPANIC','WHITE','BLACK','NAMERICAN','ASIAN','age',\n",
        "'ALCEVR1','ALCPROBS1','marever1','cocever1','inhever1','cigavail','DEP1','ESTEEM1','VIOL1',\n",
        "'PASSIST','DEVIANT1','SCHCONN1','GPA1','EXPEL1','FAMCONCT','PARACTV','PARPRES']]\n",
        "\n",
        "targets = data_clean.TREG1\n",
        "\n",
        "pred_train, pred_test, tar_train, tar_test  = train_test_split(predictors, targets, test_size=.4)\n",
        "\n",
        "pred_train.shape\n",
        "pred_test.shape\n",
        "tar_train.shape\n",
        "tar_test.shape"
      ],
      "execution_count": null,
      "outputs": [
        {
          "output_type": "execute_result",
          "data": {
            "text/plain": [
              "(1830,)"
            ]
          },
          "metadata": {
            "tags": []
          },
          "execution_count": 4
        }
      ]
    },
    {
      "cell_type": "code",
      "metadata": {
        "id": "Y6cefPZdPF7U",
        "outputId": "85a00003-c578-4225-d7c6-35ec1c996dfb",
        "colab": {
          "base_uri": "https://localhost:8080/",
          "height": 34
        }
      },
      "source": [
        "from sklearn.ensemble import RandomForestClassifier\n",
        "\n",
        "classifier=RandomForestClassifier(n_estimators=25)\n",
        "classifier=classifier.fit(pred_train,tar_train)\n",
        "\n",
        "predictions=classifier.predict(pred_test)\n",
        "\n",
        "sklearn.metrics.confusion_matrix(tar_test,predictions)\n",
        "sklearn.metrics.accuracy_score(tar_test, predictions)"
      ],
      "execution_count": null,
      "outputs": [
        {
          "output_type": "execute_result",
          "data": {
            "text/plain": [
              "0.8415300546448088"
            ]
          },
          "metadata": {
            "tags": []
          },
          "execution_count": 5
        }
      ]
    },
    {
      "cell_type": "code",
      "metadata": {
        "id": "cbKIvxsZPKMp",
        "outputId": "03a427eb-9e0e-44b8-8eb5-d62fd69fe774",
        "colab": {
          "base_uri": "https://localhost:8080/",
          "height": 156
        }
      },
      "source": [
        "model = ExtraTreesClassifier()\n",
        "model.fit(pred_train,tar_train)"
      ],
      "execution_count": null,
      "outputs": [
        {
          "output_type": "execute_result",
          "data": {
            "text/plain": [
              "ExtraTreesClassifier(bootstrap=False, ccp_alpha=0.0, class_weight=None,\n",
              "                     criterion='gini', max_depth=None, max_features='auto',\n",
              "                     max_leaf_nodes=None, max_samples=None,\n",
              "                     min_impurity_decrease=0.0, min_impurity_split=None,\n",
              "                     min_samples_leaf=1, min_samples_split=2,\n",
              "                     min_weight_fraction_leaf=0.0, n_estimators=100,\n",
              "                     n_jobs=None, oob_score=False, random_state=None, verbose=0,\n",
              "                     warm_start=False)"
            ]
          },
          "metadata": {
            "tags": []
          },
          "execution_count": 6
        }
      ]
    },
    {
      "cell_type": "code",
      "metadata": {
        "id": "85n1bkUIPNC8",
        "outputId": "8d057234-435d-4f40-8c1c-6e2c17cd033d",
        "colab": {
          "base_uri": "https://localhost:8080/",
          "height": 86
        }
      },
      "source": [
        "print(model.feature_importances_)"
      ],
      "execution_count": null,
      "outputs": [
        {
          "output_type": "stream",
          "text": [
            "[0.02469777 0.01373921 0.02179012 0.01817487 0.00956616 0.00670037\n",
            " 0.05975087 0.05098299 0.05059071 0.11326417 0.01944631 0.01646671\n",
            " 0.02673206 0.05772231 0.0566741  0.05083398 0.016351   0.06700757\n",
            " 0.06568027 0.07054085 0.01129751 0.06328886 0.05845708 0.05024415]\n"
          ],
          "name": "stdout"
        }
      ]
    },
    {
      "cell_type": "code",
      "metadata": {
        "id": "lx-uQI0MPP-1",
        "outputId": "9e094b6a-889e-4c04-e45a-aee0f545d1be",
        "colab": {
          "base_uri": "https://localhost:8080/",
          "height": 279
        }
      },
      "source": [
        "trees=range(25)\n",
        "accuracy=np.zeros(25)\n",
        "\n",
        "for idx in range(len(trees)):\n",
        "   classifier=RandomForestClassifier(n_estimators=idx + 1)\n",
        "   classifier=classifier.fit(pred_train,tar_train)\n",
        "   predictions=classifier.predict(pred_test)\n",
        "   accuracy[idx]=sklearn.metrics.accuracy_score(tar_test, predictions)\n",
        "   \n",
        "plt.cla()\n",
        "plt.plot(trees, accuracy)\n",
        "plt.xlabel('Trees')\n",
        "plt.ylabel('Accuracy')\n",
        "plt.grid(which='major')\n",
        "plt.grid(which='minor')\n",
        "plt.show()"
      ],
      "execution_count": 10,
      "outputs": [
        {
          "output_type": "display_data",
          "data": {
            "image/png": "[encoded data removed]",
            "text/plain": [
              "<Figure size 432x288 with 1 Axes>"
            ]
          },
          "metadata": {
            "tags": [],
            "needs_background": "light"
          }
        }
      ]
    },
    {
      "cell_type": "code",
      "metadata": {
        "id": "gka8UwIwPVQk"
      },
      "source": [
        ""
      ],
      "execution_count": null,
      "outputs": []
    }
  ]
}